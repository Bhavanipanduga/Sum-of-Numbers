{
 "cells": [
  {
   "cell_type": "code",
   "execution_count": 21,
   "id": "d986ccb2",
   "metadata": {},
   "outputs": [
    {
     "name": "stdout",
     "output_type": "stream",
     "text": [
      "20\n"
     ]
    }
   ],
   "source": [
    "numbers=(8,2,3,0,7)\n",
    "def fun(numbers):\n",
    "    sum= 0\n",
    "    for x in numbers:\n",
    "        sum+= int(numbers)\n",
    "        return sum\n",
    "print(sum(numbers))"
   ]
  },
  {
   "cell_type": "code",
   "execution_count": null,
   "id": "cf2796f0",
   "metadata": {},
   "outputs": [],
   "source": [
    "print(sum((8,2,3,0,7)))"
   ]
  }
 ],
 "metadata": {
  "kernelspec": {
   "display_name": "Python 3 (ipykernel)",
   "language": "python",
   "name": "python3"
  },
  "language_info": {
   "codemirror_mode": {
    "name": "ipython",
    "version": 3
   },
   "file_extension": ".py",
   "mimetype": "text/x-python",
   "name": "python",
   "nbconvert_exporter": "python",
   "pygments_lexer": "ipython3",
   "version": "3.7.9"
  }
 },
 "nbformat": 4,
 "nbformat_minor": 5
}
